{
  "nbformat": 4,
  "nbformat_minor": 0,
  "metadata": {
    "colab": {
      "provenance": [],
      "gpuType": "T4",
      "authorship_tag": "ABX9TyOV9dm6OH1mMNDU2vc+YMVS",
      "include_colab_link": true
    },
    "kernelspec": {
      "name": "python3",
      "display_name": "Python 3"
    },
    "language_info": {
      "name": "python"
    },
    "accelerator": "GPU"
  },
  "cells": [
    {
      "cell_type": "markdown",
      "metadata": {
        "id": "view-in-github",
        "colab_type": "text"
      },
      "source": [
        "<a href=\"https://colab.research.google.com/github/Saketh2611/Diabetes-Predictor/blob/main/Diabetes_predictor_Using_autoencoders.ipynb\" target=\"_parent\"><img src=\"https://colab.research.google.com/assets/colab-badge.svg\" alt=\"Open In Colab\"/></a>"
      ]
    },
    {
      "cell_type": "code",
      "source": [
        "from google.colab import files\n",
        "uploaded = files.upload()"
      ],
      "metadata": {
        "colab": {
          "base_uri": "https://localhost:8080/",
          "height": 73
        },
        "id": "ycW1aIH_6Ium",
        "outputId": "b98d3314-3bc1-4dde-eb3c-53289f84d622"
      },
      "execution_count": null,
      "outputs": [
        {
          "output_type": "display_data",
          "data": {
            "text/plain": [
              "<IPython.core.display.HTML object>"
            ],
            "text/html": [
              "\n",
              "     <input type=\"file\" id=\"files-ed1087be-038a-4b8b-a40d-d5bd7078ca1f\" name=\"files[]\" multiple disabled\n",
              "        style=\"border:none\" />\n",
              "     <output id=\"result-ed1087be-038a-4b8b-a40d-d5bd7078ca1f\">\n",
              "      Upload widget is only available when the cell has been executed in the\n",
              "      current browser session. Please rerun this cell to enable.\n",
              "      </output>\n",
              "      <script>// Copyright 2017 Google LLC\n",
              "//\n",
              "// Licensed under the Apache License, Version 2.0 (the \"License\");\n",
              "// you may not use this file except in compliance with the License.\n",
              "// You may obtain a copy of the License at\n",
              "//\n",
              "//      http://www.apache.org/licenses/LICENSE-2.0\n",
              "//\n",
              "// Unless required by applicable law or agreed to in writing, software\n",
              "// distributed under the License is distributed on an \"AS IS\" BASIS,\n",
              "// WITHOUT WARRANTIES OR CONDITIONS OF ANY KIND, either express or implied.\n",
              "// See the License for the specific language governing permissions and\n",
              "// limitations under the License.\n",
              "\n",
              "/**\n",
              " * @fileoverview Helpers for google.colab Python module.\n",
              " */\n",
              "(function(scope) {\n",
              "function span(text, styleAttributes = {}) {\n",
              "  const element = document.createElement('span');\n",
              "  element.textContent = text;\n",
              "  for (const key of Object.keys(styleAttributes)) {\n",
              "    element.style[key] = styleAttributes[key];\n",
              "  }\n",
              "  return element;\n",
              "}\n",
              "\n",
              "// Max number of bytes which will be uploaded at a time.\n",
              "const MAX_PAYLOAD_SIZE = 100 * 1024;\n",
              "\n",
              "function _uploadFiles(inputId, outputId) {\n",
              "  const steps = uploadFilesStep(inputId, outputId);\n",
              "  const outputElement = document.getElementById(outputId);\n",
              "  // Cache steps on the outputElement to make it available for the next call\n",
              "  // to uploadFilesContinue from Python.\n",
              "  outputElement.steps = steps;\n",
              "\n",
              "  return _uploadFilesContinue(outputId);\n",
              "}\n",
              "\n",
              "// This is roughly an async generator (not supported in the browser yet),\n",
              "// where there are multiple asynchronous steps and the Python side is going\n",
              "// to poll for completion of each step.\n",
              "// This uses a Promise to block the python side on completion of each step,\n",
              "// then passes the result of the previous step as the input to the next step.\n",
              "function _uploadFilesContinue(outputId) {\n",
              "  const outputElement = document.getElementById(outputId);\n",
              "  const steps = outputElement.steps;\n",
              "\n",
              "  const next = steps.next(outputElement.lastPromiseValue);\n",
              "  return Promise.resolve(next.value.promise).then((value) => {\n",
              "    // Cache the last promise value to make it available to the next\n",
              "    // step of the generator.\n",
              "    outputElement.lastPromiseValue = value;\n",
              "    return next.value.response;\n",
              "  });\n",
              "}\n",
              "\n",
              "/**\n",
              " * Generator function which is called between each async step of the upload\n",
              " * process.\n",
              " * @param {string} inputId Element ID of the input file picker element.\n",
              " * @param {string} outputId Element ID of the output display.\n",
              " * @return {!Iterable<!Object>} Iterable of next steps.\n",
              " */\n",
              "function* uploadFilesStep(inputId, outputId) {\n",
              "  const inputElement = document.getElementById(inputId);\n",
              "  inputElement.disabled = false;\n",
              "\n",
              "  const outputElement = document.getElementById(outputId);\n",
              "  outputElement.innerHTML = '';\n",
              "\n",
              "  const pickedPromise = new Promise((resolve) => {\n",
              "    inputElement.addEventListener('change', (e) => {\n",
              "      resolve(e.target.files);\n",
              "    });\n",
              "  });\n",
              "\n",
              "  const cancel = document.createElement('button');\n",
              "  inputElement.parentElement.appendChild(cancel);\n",
              "  cancel.textContent = 'Cancel upload';\n",
              "  const cancelPromise = new Promise((resolve) => {\n",
              "    cancel.onclick = () => {\n",
              "      resolve(null);\n",
              "    };\n",
              "  });\n",
              "\n",
              "  // Wait for the user to pick the files.\n",
              "  const files = yield {\n",
              "    promise: Promise.race([pickedPromise, cancelPromise]),\n",
              "    response: {\n",
              "      action: 'starting',\n",
              "    }\n",
              "  };\n",
              "\n",
              "  cancel.remove();\n",
              "\n",
              "  // Disable the input element since further picks are not allowed.\n",
              "  inputElement.disabled = true;\n",
              "\n",
              "  if (!files) {\n",
              "    return {\n",
              "      response: {\n",
              "        action: 'complete',\n",
              "      }\n",
              "    };\n",
              "  }\n",
              "\n",
              "  for (const file of files) {\n",
              "    const li = document.createElement('li');\n",
              "    li.append(span(file.name, {fontWeight: 'bold'}));\n",
              "    li.append(span(\n",
              "        `(${file.type || 'n/a'}) - ${file.size} bytes, ` +\n",
              "        `last modified: ${\n",
              "            file.lastModifiedDate ? file.lastModifiedDate.toLocaleDateString() :\n",
              "                                    'n/a'} - `));\n",
              "    const percent = span('0% done');\n",
              "    li.appendChild(percent);\n",
              "\n",
              "    outputElement.appendChild(li);\n",
              "\n",
              "    const fileDataPromise = new Promise((resolve) => {\n",
              "      const reader = new FileReader();\n",
              "      reader.onload = (e) => {\n",
              "        resolve(e.target.result);\n",
              "      };\n",
              "      reader.readAsArrayBuffer(file);\n",
              "    });\n",
              "    // Wait for the data to be ready.\n",
              "    let fileData = yield {\n",
              "      promise: fileDataPromise,\n",
              "      response: {\n",
              "        action: 'continue',\n",
              "      }\n",
              "    };\n",
              "\n",
              "    // Use a chunked sending to avoid message size limits. See b/62115660.\n",
              "    let position = 0;\n",
              "    do {\n",
              "      const length = Math.min(fileData.byteLength - position, MAX_PAYLOAD_SIZE);\n",
              "      const chunk = new Uint8Array(fileData, position, length);\n",
              "      position += length;\n",
              "\n",
              "      const base64 = btoa(String.fromCharCode.apply(null, chunk));\n",
              "      yield {\n",
              "        response: {\n",
              "          action: 'append',\n",
              "          file: file.name,\n",
              "          data: base64,\n",
              "        },\n",
              "      };\n",
              "\n",
              "      let percentDone = fileData.byteLength === 0 ?\n",
              "          100 :\n",
              "          Math.round((position / fileData.byteLength) * 100);\n",
              "      percent.textContent = `${percentDone}% done`;\n",
              "\n",
              "    } while (position < fileData.byteLength);\n",
              "  }\n",
              "\n",
              "  // All done.\n",
              "  yield {\n",
              "    response: {\n",
              "      action: 'complete',\n",
              "    }\n",
              "  };\n",
              "}\n",
              "\n",
              "scope.google = scope.google || {};\n",
              "scope.google.colab = scope.google.colab || {};\n",
              "scope.google.colab._files = {\n",
              "  _uploadFiles,\n",
              "  _uploadFilesContinue,\n",
              "};\n",
              "})(self);\n",
              "</script> "
            ]
          },
          "metadata": {}
        },
        {
          "output_type": "stream",
          "name": "stdout",
          "text": [
            "Saving Dataset of Diabetes .csv to Dataset of Diabetes .csv\n"
          ]
        }
      ]
    },
    {
      "cell_type": "markdown",
      "source": [
        "# 📦 IMPORT REQUIRED LIBRARIES"
      ],
      "metadata": {
        "id": "gIosgucZPJfj"
      }
    },
    {
      "cell_type": "code",
      "execution_count": null,
      "metadata": {
        "id": "NheuSkwi5HyG"
      },
      "outputs": [],
      "source": [
        "import numpy as np\n",
        "import pandas as pd\n",
        "import matplotlib.pyplot as plt\n",
        "import seaborn as sns\n",
        "import torch\n",
        "import torch.nn as nn\n",
        "from torch.utils.data import Dataset, DataLoader, TensorDataset\n",
        "from sklearn.preprocessing import StandardScaler, LabelEncoder\n",
        "from sklearn.model_selection import train_test_split\n",
        "from sklearn.ensemble import RandomForestClassifier\n",
        "from sklearn.metrics import accuracy_score, classification_report, confusion_matrix"
      ]
    },
    {
      "cell_type": "markdown",
      "source": [
        "# 📥 Load the dataset"
      ],
      "metadata": {
        "id": "bmjP6WyvPY0y"
      }
    },
    {
      "cell_type": "code",
      "source": [
        "\n",
        "data = pd.read_csv(\"Dataset of Diabetes .csv\")\n",
        "data['CLASS'] = data['CLASS'].str.strip()\n"
      ],
      "metadata": {
        "id": "9yZLjzZu6EaJ"
      },
      "execution_count": null,
      "outputs": []
    },
    {
      "cell_type": "markdown",
      "source": [
        "# 🧹 Clean & preprocess"
      ],
      "metadata": {
        "id": "aiSTDDD1Pbdk"
      }
    },
    {
      "cell_type": "code",
      "source": [
        "\n",
        "data = data[data['CLASS'].isin(['N', 'Y'])]  # Drop 'P' class if exists\n",
        "data['Gender'] = data['Gender'].map({'F': 0, 'M': 1})\n",
        "data = data.drop(['ID', 'No_Pation'], axis=1)  # Drop identifiers"
      ],
      "metadata": {
        "colab": {
          "base_uri": "https://localhost:8080/"
        },
        "collapsed": true,
        "id": "1qEfp6Oh6Rzb",
        "outputId": "d14d0992-a30f-419a-e089-d11b212b1130"
      },
      "execution_count": null,
      "outputs": [
        {
          "output_type": "stream",
          "name": "stderr",
          "text": [
            "/tmp/ipython-input-4-2964637715.py:3: SettingWithCopyWarning: \n",
            "A value is trying to be set on a copy of a slice from a DataFrame.\n",
            "Try using .loc[row_indexer,col_indexer] = value instead\n",
            "\n",
            "See the caveats in the documentation: https://pandas.pydata.org/pandas-docs/stable/user_guide/indexing.html#returning-a-view-versus-a-copy\n",
            "  data['Gender'] = data['Gender'].map({'F': 0, 'M': 1})\n"
          ]
        }
      ]
    },
    {
      "cell_type": "markdown",
      "source": [
        "# LABEL ENCODING CLASSES"
      ],
      "metadata": {
        "id": "o0pTYYWwPhkY"
      }
    },
    {
      "cell_type": "code",
      "source": [
        "y = LabelEncoder().fit_transform(data['CLASS'])  # 'N' -> 0, 'Y' -> 1\n",
        "X = data.drop(['CLASS'], axis=1)"
      ],
      "metadata": {
        "id": "bFP-G6za6Xu2"
      },
      "execution_count": null,
      "outputs": []
    },
    {
      "cell_type": "code",
      "source": [
        "scaler = StandardScaler()\n",
        "X_scaled = scaler.fit_transform(X)"
      ],
      "metadata": {
        "id": "6oIaaBnf6fD2"
      },
      "execution_count": null,
      "outputs": []
    },
    {
      "cell_type": "markdown",
      "source": [
        "# 🧪 Check and clean invalid values"
      ],
      "metadata": {
        "id": "XpzskPC-PqP1"
      }
    },
    {
      "cell_type": "code",
      "source": [
        "print(\"Any NaNs in scaled input?\", np.isnan(X_scaled).any())\n",
        "print(\"Any Infs in scaled input?\", np.isinf(X_scaled).any())\n",
        "X_scaled = np.nan_to_num(X_scaled, nan=0.0, posinf=0.0, neginf=0.0)"
      ],
      "metadata": {
        "colab": {
          "base_uri": "https://localhost:8080/"
        },
        "id": "d6gQiRKI8nd1",
        "outputId": "1250aa2b-baf8-4cbf-a3cf-3706e6807b84"
      },
      "execution_count": null,
      "outputs": [
        {
          "output_type": "stream",
          "name": "stdout",
          "text": [
            "Any NaNs in scaled input? True\n",
            "Any Infs in scaled input? False\n"
          ]
        }
      ]
    },
    {
      "cell_type": "markdown",
      "source": [
        "# 🔁 Convert to tensors"
      ],
      "metadata": {
        "id": "InuTlKYwPuq8"
      }
    },
    {
      "cell_type": "code",
      "source": [
        "X_tensor = torch.tensor(X_scaled, dtype=torch.float32)\n",
        "y_tensor = torch.tensor(y, dtype=torch.long)"
      ],
      "metadata": {
        "id": "YL_iIbHt6lZX"
      },
      "execution_count": null,
      "outputs": []
    },
    {
      "cell_type": "markdown",
      "source": [
        "# 🧠 AE Architecture"
      ],
      "metadata": {
        "id": "2pCgrL3ZPx2b"
      }
    },
    {
      "cell_type": "code",
      "source": [
        "import torch.nn as nn\n",
        "\n",
        "class Autoencoder(nn.Module):\n",
        "    def __init__(self, input_dim, latent_dim=4):\n",
        "        super(Autoencoder, self).__init__()\n",
        "        self.encoder = nn.Sequential(\n",
        "            nn.Linear(input_dim, 64),\n",
        "            nn.ReLU(),\n",
        "            nn.Linear(64, 32),\n",
        "            nn.ReLU(),\n",
        "            nn.Linear(32, latent_dim)\n",
        "        )\n",
        "        self.decoder = nn.Sequential(\n",
        "            nn.Linear(latent_dim, 32),\n",
        "            nn.ReLU(),\n",
        "            nn.Linear(32, 64),\n",
        "            nn.ReLU(),\n",
        "            nn.Linear(64, input_dim)\n",
        "        )\n",
        "\n",
        "    def forward(self, x):\n",
        "        z = self.encoder(x)\n",
        "        x_hat = self.decoder(z)\n",
        "        return x_hat  # ✅ Correct return\n"
      ],
      "metadata": {
        "id": "GQEcDKKe6p8E"
      },
      "execution_count": null,
      "outputs": []
    },
    {
      "cell_type": "markdown",
      "source": [
        "# ⚙️ Training AE"
      ],
      "metadata": {
        "id": "qhiQb4r0P9n7"
      }
    },
    {
      "cell_type": "code",
      "source": [
        "input_dim = X_tensor.shape[1]\n",
        "ae = Autoencoder(input_dim)\n",
        "optimizer = torch.optim.Adam(ae.parameters(), lr=1e-3)\n",
        "criterion = nn.MSELoss()"
      ],
      "metadata": {
        "id": "PFpmjwPb6w8p"
      },
      "execution_count": null,
      "outputs": []
    },
    {
      "cell_type": "code",
      "source": [
        "dataset = TensorDataset(X_tensor, X_tensor)\n",
        "dataloader = DataLoader(dataset, batch_size=32, shuffle=True)\n"
      ],
      "metadata": {
        "id": "y1swHY0P62pX"
      },
      "execution_count": null,
      "outputs": []
    },
    {
      "cell_type": "markdown",
      "source": [
        "# Trained for 300 epochs to get less loss"
      ],
      "metadata": {
        "id": "nStF0IHlQSt9"
      }
    },
    {
      "cell_type": "code",
      "source": [
        "for epoch in range(300):\n",
        "    total_loss = 0\n",
        "    for batch_x, _ in dataloader:\n",
        "        optimizer.zero_grad()\n",
        "        x_hat = ae(batch_x)\n",
        "        loss = criterion(x_hat, batch_x)\n",
        "        loss.backward()\n",
        "        optimizer.step()\n",
        "        total_loss += loss.item()\n",
        "    print(f\"Epoch {epoch+1}, Loss: {total_loss/len(dataloader):.4f}\")"
      ],
      "metadata": {
        "colab": {
          "base_uri": "https://localhost:8080/"
        },
        "collapsed": true,
        "id": "abhfsKrU66ps",
        "outputId": "ab477085-5c30-4442-cdd4-e1b7581d9586"
      },
      "execution_count": null,
      "outputs": [
        {
          "output_type": "stream",
          "name": "stdout",
          "text": [
            "Epoch 1, Loss: 0.0983\n",
            "Epoch 2, Loss: 0.0985\n",
            "Epoch 3, Loss: 0.0984\n",
            "Epoch 4, Loss: 0.0972\n",
            "Epoch 5, Loss: 0.0969\n",
            "Epoch 6, Loss: 0.0981\n",
            "Epoch 7, Loss: 0.0989\n",
            "Epoch 8, Loss: 0.0987\n",
            "Epoch 9, Loss: 0.1010\n",
            "Epoch 10, Loss: 0.0985\n",
            "Epoch 11, Loss: 0.1044\n",
            "Epoch 12, Loss: 0.0995\n",
            "Epoch 13, Loss: 0.1009\n",
            "Epoch 14, Loss: 0.0999\n",
            "Epoch 15, Loss: 0.0966\n",
            "Epoch 16, Loss: 0.0946\n",
            "Epoch 17, Loss: 0.0956\n",
            "Epoch 18, Loss: 0.0950\n",
            "Epoch 19, Loss: 0.0990\n",
            "Epoch 20, Loss: 0.0976\n",
            "Epoch 21, Loss: 0.0958\n",
            "Epoch 22, Loss: 0.0954\n",
            "Epoch 23, Loss: 0.0948\n",
            "Epoch 24, Loss: 0.0943\n",
            "Epoch 25, Loss: 0.0946\n",
            "Epoch 26, Loss: 0.0957\n",
            "Epoch 27, Loss: 0.0963\n",
            "Epoch 28, Loss: 0.0959\n",
            "Epoch 29, Loss: 0.0947\n",
            "Epoch 30, Loss: 0.0936\n",
            "Epoch 31, Loss: 0.0951\n",
            "Epoch 32, Loss: 0.0934\n",
            "Epoch 33, Loss: 0.0927\n",
            "Epoch 34, Loss: 0.0927\n",
            "Epoch 35, Loss: 0.0935\n",
            "Epoch 36, Loss: 0.0947\n",
            "Epoch 37, Loss: 0.0925\n",
            "Epoch 38, Loss: 0.0934\n",
            "Epoch 39, Loss: 0.0932\n",
            "Epoch 40, Loss: 0.0920\n",
            "Epoch 41, Loss: 0.0920\n",
            "Epoch 42, Loss: 0.0919\n",
            "Epoch 43, Loss: 0.0913\n",
            "Epoch 44, Loss: 0.0920\n",
            "Epoch 45, Loss: 0.0916\n",
            "Epoch 46, Loss: 0.0913\n",
            "Epoch 47, Loss: 0.0917\n",
            "Epoch 48, Loss: 0.0916\n",
            "Epoch 49, Loss: 0.0907\n",
            "Epoch 50, Loss: 0.0902\n",
            "Epoch 51, Loss: 0.0902\n",
            "Epoch 52, Loss: 0.0904\n",
            "Epoch 53, Loss: 0.0906\n",
            "Epoch 54, Loss: 0.0911\n",
            "Epoch 55, Loss: 0.0895\n",
            "Epoch 56, Loss: 0.0901\n",
            "Epoch 57, Loss: 0.0904\n",
            "Epoch 58, Loss: 0.0913\n",
            "Epoch 59, Loss: 0.0927\n",
            "Epoch 60, Loss: 0.0937\n",
            "Epoch 61, Loss: 0.0893\n",
            "Epoch 62, Loss: 0.0883\n",
            "Epoch 63, Loss: 0.0899\n",
            "Epoch 64, Loss: 0.0900\n",
            "Epoch 65, Loss: 0.0884\n",
            "Epoch 66, Loss: 0.0898\n",
            "Epoch 67, Loss: 0.0884\n",
            "Epoch 68, Loss: 0.0881\n",
            "Epoch 69, Loss: 0.0868\n",
            "Epoch 70, Loss: 0.0884\n",
            "Epoch 71, Loss: 0.0882\n",
            "Epoch 72, Loss: 0.0912\n",
            "Epoch 73, Loss: 0.0873\n",
            "Epoch 74, Loss: 0.0880\n",
            "Epoch 75, Loss: 0.0892\n",
            "Epoch 76, Loss: 0.0869\n",
            "Epoch 77, Loss: 0.0878\n",
            "Epoch 78, Loss: 0.0874\n",
            "Epoch 79, Loss: 0.0890\n",
            "Epoch 80, Loss: 0.0893\n",
            "Epoch 81, Loss: 0.0891\n",
            "Epoch 82, Loss: 0.0875\n",
            "Epoch 83, Loss: 0.0860\n",
            "Epoch 84, Loss: 0.0889\n",
            "Epoch 85, Loss: 0.0872\n",
            "Epoch 86, Loss: 0.0873\n",
            "Epoch 87, Loss: 0.0878\n",
            "Epoch 88, Loss: 0.0872\n",
            "Epoch 89, Loss: 0.0891\n",
            "Epoch 90, Loss: 0.0855\n",
            "Epoch 91, Loss: 0.0866\n",
            "Epoch 92, Loss: 0.0853\n",
            "Epoch 93, Loss: 0.0842\n",
            "Epoch 94, Loss: 0.0846\n",
            "Epoch 95, Loss: 0.0860\n",
            "Epoch 96, Loss: 0.0869\n",
            "Epoch 97, Loss: 0.0868\n",
            "Epoch 98, Loss: 0.0869\n",
            "Epoch 99, Loss: 0.0861\n",
            "Epoch 100, Loss: 0.0861\n"
          ]
        }
      ]
    },
    {
      "cell_type": "markdown",
      "source": [
        "# 🔍 Extract Latent Features"
      ],
      "metadata": {
        "id": "dzImxV_UQkle"
      }
    },
    {
      "cell_type": "code",
      "source": [
        "with torch.no_grad():\n",
        "    latent_features = ae.encoder(X_tensor).numpy()"
      ],
      "metadata": {
        "id": "E4FNOw3L6_M_"
      },
      "execution_count": null,
      "outputs": []
    },
    {
      "cell_type": "markdown",
      "source": [
        "# Splitting Train and Test data"
      ],
      "metadata": {
        "id": "sQtWkNFuQWf9"
      }
    },
    {
      "cell_type": "code",
      "source": [
        "xTrain, xTest, yTrain, yTest = train_test_split(latent_features, y, test_size=0.2, random_state=42)"
      ],
      "metadata": {
        "id": "vxbeflWf7DmI"
      },
      "execution_count": null,
      "outputs": []
    },
    {
      "cell_type": "markdown",
      "source": [
        "# 🧪 RFC Pipeline with GridSearchCV"
      ],
      "metadata": {
        "id": "epiU9As0QqZp"
      }
    },
    {
      "cell_type": "code",
      "source": [
        "from sklearn.pipeline import Pipeline\n",
        "pipeline = Pipeline([\n",
        "    ('clf', RandomForestClassifier(random_state=42))\n",
        "])"
      ],
      "metadata": {
        "id": "5GaG-PSJ9X-Y"
      },
      "execution_count": null,
      "outputs": []
    },
    {
      "cell_type": "code",
      "source": [
        "from sklearn.model_selection import GridSearchCV\n",
        "\n",
        "param_grid = {\n",
        "    'clf__n_estimators': [100, 200, 300, 400, 500],\n",
        "    'clf__max_depth': [None, 10, 20, 30, 40, 50],\n",
        "    'clf__min_samples_split': [2,3,4, 5],\n",
        "    'clf__class_weight': ['balanced']\n",
        "}\n",
        "\n",
        "grid_search = GridSearchCV(\n",
        "    pipeline,\n",
        "    param_grid,\n",
        "    cv=5,\n",
        "    scoring='f1_macro',  # better if classes are imbalanced\n",
        "    n_jobs=-1,\n",
        "    verbose=2\n",
        ")\n",
        "\n",
        "print(\"\\n🔍 Running GridSearchCV on AE latent features...\")\n"
      ],
      "metadata": {
        "colab": {
          "base_uri": "https://localhost:8080/"
        },
        "id": "9hyY2iEh-OxS",
        "outputId": "a6cf5faa-987a-4eb7-c0ed-2f1116675909"
      },
      "execution_count": null,
      "outputs": [
        {
          "output_type": "stream",
          "name": "stdout",
          "text": [
            "\n",
            "🔍 Running GridSearchCV on AE latent features...\n"
          ]
        }
      ]
    },
    {
      "cell_type": "code",
      "source": [
        "# Fit on latent features\n",
        "grid_search.fit(xTrain, yTrain)\n",
        "\n",
        "# Best parameters\n",
        "print(\"\\n🏆 Best Parameters Found:\")\n",
        "print(grid_search.best_params_)"
      ],
      "metadata": {
        "colab": {
          "base_uri": "https://localhost:8080/"
        },
        "id": "Kv0cPc2Q-fmc",
        "outputId": "58bf9436-dbd5-4491-e6b5-1706fb14f18a"
      },
      "execution_count": null,
      "outputs": [
        {
          "output_type": "stream",
          "name": "stdout",
          "text": [
            "Fitting 5 folds for each of 120 candidates, totalling 600 fits\n",
            "\n",
            "🏆 Best Parameters Found:\n",
            "{'clf__class_weight': 'balanced', 'clf__max_depth': 10, 'clf__min_samples_split': 2, 'clf__n_estimators': 100}\n"
          ]
        }
      ]
    },
    {
      "cell_type": "code",
      "source": [
        "best_model = grid_search.best_estimator_\n",
        "yPred = best_model.predict(xTest)"
      ],
      "metadata": {
        "id": "0UDNHoxJ-nSa"
      },
      "execution_count": null,
      "outputs": []
    },
    {
      "cell_type": "code",
      "source": [
        "print(\"\\n✅ Evaluation on AE latent features:\")\n",
        "print(\"Accuracy:\", accuracy_score(yTest, yPred))\n",
        "print(\"Classification Report:\\n\", classification_report(yTest, yPred))"
      ],
      "metadata": {
        "colab": {
          "base_uri": "https://localhost:8080/"
        },
        "id": "uUqo65fr9b1l",
        "outputId": "8f430d7b-f491-40fb-903e-491c0513ba55"
      },
      "execution_count": null,
      "outputs": [
        {
          "output_type": "stream",
          "name": "stdout",
          "text": [
            "\n",
            "✅ Evaluation on AE latent features:\n",
            "Accuracy: 0.9842105263157894\n",
            "Classification Report:\n",
            "               precision    recall  f1-score   support\n",
            "\n",
            "           0       1.00      0.85      0.92        20\n",
            "           1       0.98      1.00      0.99       170\n",
            "\n",
            "    accuracy                           0.98       190\n",
            "   macro avg       0.99      0.93      0.96       190\n",
            "weighted avg       0.98      0.98      0.98       190\n",
            "\n"
          ]
        }
      ]
    },
    {
      "cell_type": "code",
      "source": [
        "y_pred_1 = pipeline.fit(xTrain, yTrain).predict(xTest)\n",
        "\n",
        "print(\"\\n✅ Evaluation on AE latent features:\")\n",
        "print(\"Accuracy:\", accuracy_score(yTest, y_pred_1))\n",
        "print(\"Classification Report:\\n\", classification_report(yTest, y_pred_1))"
      ],
      "metadata": {
        "colab": {
          "base_uri": "https://localhost:8080/"
        },
        "id": "tJ4iUufTIBpR",
        "outputId": "872bd339-5ddb-4b98-966b-fb7b339b4819"
      },
      "execution_count": null,
      "outputs": [
        {
          "output_type": "stream",
          "name": "stdout",
          "text": [
            "\n",
            "✅ Evaluation on AE latent features:\n",
            "Accuracy: 0.9789473684210527\n",
            "Classification Report:\n",
            "               precision    recall  f1-score   support\n",
            "\n",
            "           0       0.94      0.85      0.89        20\n",
            "           1       0.98      0.99      0.99       170\n",
            "\n",
            "    accuracy                           0.98       190\n",
            "   macro avg       0.96      0.92      0.94       190\n",
            "weighted avg       0.98      0.98      0.98       190\n",
            "\n"
          ]
        }
      ]
    },
    {
      "cell_type": "code",
      "source": [
        "# 📉 Confusion Matrix\n",
        "conf_matrix = confusion_matrix(yTest, yPred)\n",
        "sns.heatmap(conf_matrix, annot=True, fmt=\"d\", cmap=\"Blues\", xticklabels=['No', 'Yes'], yticklabels=['No', 'Yes'])\n",
        "plt.xlabel('Predicted')\n",
        "plt.ylabel('Actual')\n",
        "plt.title('Confusion Matrix (AE + RandomForest)')\n",
        "plt.show()"
      ],
      "metadata": {
        "colab": {
          "base_uri": "https://localhost:8080/",
          "height": 472
        },
        "id": "LYYbPE8m9mXS",
        "outputId": "f35daaaa-d5e8-42ad-bad8-7947cd2c229e"
      },
      "execution_count": null,
      "outputs": [
        {
          "output_type": "display_data",
          "data": {
            "text/plain": [
              "<Figure size 640x480 with 2 Axes>"
            ],
            "image/png": "[encoded data removed]"
          },
          "metadata": {}
        }
      ]
    },
    {
      "cell_type": "code",
      "source": [
        "# 📉 Confusion Matrix\n",
        "conf_matrix = confusion_matrix(yTest, y_pred_1)\n",
        "sns.heatmap(conf_matrix, annot=True, fmt=\"d\", cmap=\"Blues\", xticklabels=['No', 'Yes'], yticklabels=['No', 'Yes'])\n",
        "plt.xlabel('Predicted')\n",
        "plt.ylabel('Actual')\n",
        "plt.title('Confusion Matrix (AE + RandomForest)')\n",
        "plt.show()\n"
      ],
      "metadata": {
        "colab": {
          "base_uri": "https://localhost:8080/",
          "height": 472
        },
        "id": "jzIT3Ni6Io7B",
        "outputId": "8d9f4785-53f4-4b9f-fc8e-bcdfa42dc8d8"
      },
      "execution_count": null,
      "outputs": [
        {
          "output_type": "display_data",
          "data": {
            "text/plain": [
              "<Figure size 640x480 with 2 Axes>"
            ],
            "image/png": "[encoded data removed]"
          },
          "metadata": {}
        }
      ]
    },
    {
      "cell_type": "code",
      "source": [
        "importances_1 = best_model.named_steps['clf'].feature_importances_\n",
        "feature_names_1 = X.columns  # Original feature names\n",
        "sorted_idx = np.argsort(importances_1)[::-1]\n",
        "\n",
        "plt.figure(figsize=(10, 5))\n",
        "sns.barplot(x=importances_1[sorted_idx], y=np.array(feature_names_1)[sorted_idx])\n",
        "plt.title(\"Feature Importances\")\n",
        "plt.show()"
      ],
      "metadata": {
        "colab": {
          "base_uri": "https://localhost:8080/",
          "height": 468
        },
        "id": "rGgpmLo8OJaw",
        "outputId": "12477e99-a92b-492b-c5b6-a3b49f3c701d"
      },
      "execution_count": null,
      "outputs": [
        {
          "output_type": "display_data",
          "data": {
            "text/plain": [
              "<Figure size 1000x500 with 1 Axes>"
            ],
            "image/png": "[encoded data removed]"
          },
          "metadata": {}
        }
      ]
    }
  ]
}